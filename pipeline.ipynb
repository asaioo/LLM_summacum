{
 "cells": [
  {
   "cell_type": "markdown",
   "id": "474eaf34-d4ab-4a5a-813d-12fbbe80142f",
   "metadata": {
    "tags": []
   },
   "source": [
    "# RAG Application: LangChain, SolarLLM, Oracle Database 23ai"
   ]
  },
  {
   "cell_type": "markdown",
   "id": "fd84f3ca-29c1-4920-b288-078f89f752c3",
   "metadata": {},
   "source": [
    "## Step 01. 사전 준비"
   ]
  },
  {
   "cell_type": "markdown",
   "id": "32b30bb2-3177-46eb-8401-e6711c5e42b5",
   "metadata": {
    "tags": []
   },
   "source": [
    "## 01.01 환경 변수 설정"
   ]
  },
  {
   "cell_type": "code",
   "execution_count": 21,
   "id": "6fe3e5c9-35f4-4503-9ea0-1f4c06a093c7",
   "metadata": {
    "tags": []
   },
   "outputs": [
    {
     "name": "stdout",
     "output_type": "stream",
     "text": [
      "Collecting langchain-experimental\n",
      "  Downloading langchain_experimental-0.0.62-py3-none-any.whl.metadata (1.5 kB)\n",
      "Requirement already satisfied: langchain-community<0.3.0,>=0.2.6 in /home/earth/anaconda3/envs/sgparser/lib/python3.8/site-packages (from langchain-experimental) (0.2.6)\n",
      "Requirement already satisfied: langchain-core<0.3.0,>=0.2.10 in /home/earth/anaconda3/envs/sgparser/lib/python3.8/site-packages (from langchain-experimental) (0.2.11)\n",
      "Requirement already satisfied: PyYAML>=5.3 in /home/earth/anaconda3/envs/sgparser/lib/python3.8/site-packages (from langchain-community<0.3.0,>=0.2.6->langchain-experimental) (6.0.1)\n",
      "Requirement already satisfied: SQLAlchemy<3,>=1.4 in /home/earth/anaconda3/envs/sgparser/lib/python3.8/site-packages (from langchain-community<0.3.0,>=0.2.6->langchain-experimental) (2.0.31)\n",
      "Requirement already satisfied: aiohttp<4.0.0,>=3.8.3 in /home/earth/anaconda3/envs/sgparser/lib/python3.8/site-packages (from langchain-community<0.3.0,>=0.2.6->langchain-experimental) (3.9.5)\n",
      "Requirement already satisfied: dataclasses-json<0.7,>=0.5.7 in /home/earth/anaconda3/envs/sgparser/lib/python3.8/site-packages (from langchain-community<0.3.0,>=0.2.6->langchain-experimental) (0.6.7)\n",
      "Requirement already satisfied: langchain<0.3.0,>=0.2.6 in /home/earth/anaconda3/envs/sgparser/lib/python3.8/site-packages (from langchain-community<0.3.0,>=0.2.6->langchain-experimental) (0.2.6)\n",
      "Requirement already satisfied: langsmith<0.2.0,>=0.1.0 in /home/earth/anaconda3/envs/sgparser/lib/python3.8/site-packages (from langchain-community<0.3.0,>=0.2.6->langchain-experimental) (0.1.83)\n",
      "Requirement already satisfied: numpy<2,>=1 in /home/earth/anaconda3/envs/sgparser/lib/python3.8/site-packages (from langchain-community<0.3.0,>=0.2.6->langchain-experimental) (1.24.3)\n",
      "Requirement already satisfied: requests<3,>=2 in /home/earth/anaconda3/envs/sgparser/lib/python3.8/site-packages (from langchain-community<0.3.0,>=0.2.6->langchain-experimental) (2.31.0)\n",
      "Requirement already satisfied: tenacity!=8.4.0,<9.0.0,>=8.1.0 in /home/earth/anaconda3/envs/sgparser/lib/python3.8/site-packages (from langchain-community<0.3.0,>=0.2.6->langchain-experimental) (8.5.0)\n",
      "Requirement already satisfied: jsonpatch<2.0,>=1.33 in /home/earth/anaconda3/envs/sgparser/lib/python3.8/site-packages (from langchain-core<0.3.0,>=0.2.10->langchain-experimental) (1.33)\n",
      "Requirement already satisfied: packaging<25,>=23.2 in /home/earth/anaconda3/envs/sgparser/lib/python3.8/site-packages (from langchain-core<0.3.0,>=0.2.10->langchain-experimental) (24.1)\n",
      "Requirement already satisfied: pydantic<3,>=1 in /home/earth/anaconda3/envs/sgparser/lib/python3.8/site-packages (from langchain-core<0.3.0,>=0.2.10->langchain-experimental) (2.7.1)\n",
      "Requirement already satisfied: aiosignal>=1.1.2 in /home/earth/anaconda3/envs/sgparser/lib/python3.8/site-packages (from aiohttp<4.0.0,>=3.8.3->langchain-community<0.3.0,>=0.2.6->langchain-experimental) (1.3.1)\n",
      "Requirement already satisfied: attrs>=17.3.0 in /home/earth/anaconda3/envs/sgparser/lib/python3.8/site-packages (from aiohttp<4.0.0,>=3.8.3->langchain-community<0.3.0,>=0.2.6->langchain-experimental) (23.2.0)\n",
      "Requirement already satisfied: frozenlist>=1.1.1 in /home/earth/anaconda3/envs/sgparser/lib/python3.8/site-packages (from aiohttp<4.0.0,>=3.8.3->langchain-community<0.3.0,>=0.2.6->langchain-experimental) (1.4.1)\n",
      "Requirement already satisfied: multidict<7.0,>=4.5 in /home/earth/anaconda3/envs/sgparser/lib/python3.8/site-packages (from aiohttp<4.0.0,>=3.8.3->langchain-community<0.3.0,>=0.2.6->langchain-experimental) (6.0.5)\n",
      "Requirement already satisfied: yarl<2.0,>=1.0 in /home/earth/anaconda3/envs/sgparser/lib/python3.8/site-packages (from aiohttp<4.0.0,>=3.8.3->langchain-community<0.3.0,>=0.2.6->langchain-experimental) (1.9.4)\n",
      "Requirement already satisfied: async-timeout<5.0,>=4.0 in /home/earth/anaconda3/envs/sgparser/lib/python3.8/site-packages (from aiohttp<4.0.0,>=3.8.3->langchain-community<0.3.0,>=0.2.6->langchain-experimental) (4.0.3)\n",
      "Requirement already satisfied: marshmallow<4.0.0,>=3.18.0 in /home/earth/anaconda3/envs/sgparser/lib/python3.8/site-packages (from dataclasses-json<0.7,>=0.5.7->langchain-community<0.3.0,>=0.2.6->langchain-experimental) (3.21.3)\n",
      "Requirement already satisfied: typing-inspect<1,>=0.4.0 in /home/earth/anaconda3/envs/sgparser/lib/python3.8/site-packages (from dataclasses-json<0.7,>=0.5.7->langchain-community<0.3.0,>=0.2.6->langchain-experimental) (0.9.0)\n",
      "Requirement already satisfied: jsonpointer>=1.9 in /home/earth/anaconda3/envs/sgparser/lib/python3.8/site-packages (from jsonpatch<2.0,>=1.33->langchain-core<0.3.0,>=0.2.10->langchain-experimental) (3.0.0)\n",
      "Requirement already satisfied: langchain-text-splitters<0.3.0,>=0.2.0 in /home/earth/anaconda3/envs/sgparser/lib/python3.8/site-packages (from langchain<0.3.0,>=0.2.6->langchain-community<0.3.0,>=0.2.6->langchain-experimental) (0.2.2)\n",
      "Requirement already satisfied: orjson<4.0.0,>=3.9.14 in /home/earth/anaconda3/envs/sgparser/lib/python3.8/site-packages (from langsmith<0.2.0,>=0.1.0->langchain-community<0.3.0,>=0.2.6->langchain-experimental) (3.10.6)\n",
      "Requirement already satisfied: annotated-types>=0.4.0 in /home/earth/anaconda3/envs/sgparser/lib/python3.8/site-packages (from pydantic<3,>=1->langchain-core<0.3.0,>=0.2.10->langchain-experimental) (0.6.0)\n",
      "Requirement already satisfied: pydantic-core==2.18.2 in /home/earth/anaconda3/envs/sgparser/lib/python3.8/site-packages (from pydantic<3,>=1->langchain-core<0.3.0,>=0.2.10->langchain-experimental) (2.18.2)\n",
      "Requirement already satisfied: typing-extensions>=4.6.1 in /home/earth/.local/lib/python3.8/site-packages (from pydantic<3,>=1->langchain-core<0.3.0,>=0.2.10->langchain-experimental) (4.9.0)\n",
      "Requirement already satisfied: charset-normalizer<4,>=2 in /home/earth/.local/lib/python3.8/site-packages (from requests<3,>=2->langchain-community<0.3.0,>=0.2.6->langchain-experimental) (3.1.0)\n",
      "Requirement already satisfied: idna<4,>=2.5 in /home/earth/anaconda3/envs/sgparser/lib/python3.8/site-packages (from requests<3,>=2->langchain-community<0.3.0,>=0.2.6->langchain-experimental) (3.7)\n",
      "Requirement already satisfied: urllib3<3,>=1.21.1 in /home/earth/anaconda3/envs/sgparser/lib/python3.8/site-packages (from requests<3,>=2->langchain-community<0.3.0,>=0.2.6->langchain-experimental) (2.2.2)\n",
      "Requirement already satisfied: certifi>=2017.4.17 in /home/earth/anaconda3/envs/sgparser/lib/python3.8/site-packages (from requests<3,>=2->langchain-community<0.3.0,>=0.2.6->langchain-experimental) (2024.2.2)\n",
      "Requirement already satisfied: greenlet!=0.4.17 in /home/earth/anaconda3/envs/sgparser/lib/python3.8/site-packages (from SQLAlchemy<3,>=1.4->langchain-community<0.3.0,>=0.2.6->langchain-experimental) (3.0.3)\n",
      "Requirement already satisfied: mypy-extensions>=0.3.0 in /home/earth/.local/lib/python3.8/site-packages (from typing-inspect<1,>=0.4.0->dataclasses-json<0.7,>=0.5.7->langchain-community<0.3.0,>=0.2.6->langchain-experimental) (1.0.0)\n",
      "Downloading langchain_experimental-0.0.62-py3-none-any.whl (202 kB)\n",
      "\u001b[2K   \u001b[90m━━━━━━━━━━━━━━━━━━━━━━━━━━━━━━━━━━━━━━━━\u001b[0m \u001b[32m202.7/202.7 kB\u001b[0m \u001b[31m6.9 MB/s\u001b[0m eta \u001b[36m0:00:00\u001b[0m\n",
      "\u001b[?25hInstalling collected packages: langchain-experimental\n",
      "Successfully installed langchain-experimental-0.0.62\n",
      "\n",
      "\u001b[1m[\u001b[0m\u001b[34;49mnotice\u001b[0m\u001b[1;39;49m]\u001b[0m\u001b[39;49m A new release of pip is available: \u001b[0m\u001b[31;49m24.0\u001b[0m\u001b[39;49m -> \u001b[0m\u001b[32;49m24.1.1\u001b[0m\n",
      "\u001b[1m[\u001b[0m\u001b[34;49mnotice\u001b[0m\u001b[1;39;49m]\u001b[0m\u001b[39;49m To update, run: \u001b[0m\u001b[32;49mpip install --upgrade pip\u001b[0m\n",
      "The dotenv extension is already loaded. To reload it, use:\n",
      "  %reload_ext dotenv\n"
     ]
    }
   ],
   "source": [
    "!pip install langchain-experimental\n",
    "%load_ext dotenv\n",
    "%dotenv"
   ]
  },
  {
   "cell_type": "markdown",
   "id": "22fc3fee-5970-4b70-9c53-a6010ef83011",
   "metadata": {
    "tags": []
   },
   "source": [
    "### 01.02 관련 패키지 로딩"
   ]
  },
  {
   "cell_type": "code",
   "execution_count": 2,
   "id": "cda491fe-9c43-4d98-b6ef-ea6c96a9001c",
   "metadata": {
    "tags": []
   },
   "outputs": [
    {
     "name": "stdout",
     "output_type": "stream",
     "text": [
      "Successfully imported libraries and modules\n"
     ]
    }
   ],
   "source": [
    "import sys\n",
    "import array\n",
    "import time\n",
    "import os\n",
    "from dotenv import load_dotenv\n",
    "\n",
    "import oracledb\n",
    "from langchain_community.vectorstores import oraclevs\n",
    "from langchain_community.vectorstores.oraclevs import OracleVS\n",
    "\n",
    "from langchain_community.vectorstores.utils import DistanceStrategy\n",
    "from langchain_core.documents import BaseDocumentTransformer, Document\n",
    "\n",
    "from langchain_core.prompts import PromptTemplate\n",
    "from langchain.chains import LLMChain\n",
    "from langchain_core.runnables import RunnablePassthrough\n",
    "from langchain_core.output_parsers import StrOutputParser\n",
    "\n",
    "import warnings\n",
    "warnings.filterwarnings(\"ignore\")\n",
    "\n",
    "print(\"Successfully imported libraries and modules\")"
   ]
  },
  {
   "cell_type": "markdown",
   "id": "cc72ed37-28d8-4428-a32c-57f73174e4d1",
   "metadata": {
    "tags": []
   },
   "source": [
    "### 01.03 데이터베이스 연결 "
   ]
  },
  {
   "cell_type": "code",
   "execution_count": 3,
   "id": "993e8d02-7be9-4c3c-96c2-ac72b59e4f16",
   "metadata": {
    "tags": []
   },
   "outputs": [
    {
     "name": "stdout",
     "output_type": "stream",
     "text": [
      "Connection successful! 23.4.1.24.6\n"
     ]
    }
   ],
   "source": [
    "username=os.environ[\"DB_USER\"]\n",
    "password=os.environ[\"DB_PASSWORD\"]\n",
    "dsn=os.environ[\"DSN\"]\n",
    "\n",
    "con = oracledb.connect(user=username, password=password, dsn=dsn)\n",
    "\n",
    "try: \n",
    "    conn23c = oracledb.connect(user=username, password=password, dsn=dsn)\n",
    "    print(\"Connection successful!\", conn23c.version)\n",
    "except Exception as e:\n",
    "    print(\"Connection failed!\")"
   ]
  },
  {
   "cell_type": "markdown",
   "id": "2607ae59-5cbe-40d0-8e63-e9a25031f3d6",
   "metadata": {
    "tags": []
   },
   "source": [
    "## Step 02. Load the document "
   ]
  },
  {
   "cell_type": "markdown",
   "id": "01b8dfb4-4655-45fe-919f-37c7eb1fdd2b",
   "metadata": {},
   "source": [
    "### 텍스트 추출: UpstageLayoutAnalysisLoader"
   ]
  },
  {
   "cell_type": "code",
   "execution_count": 5,
   "id": "e175a61e-f6da-46ac-8439-1e0ccd3932ab",
   "metadata": {
    "tags": []
   },
   "outputs": [],
   "source": [
    "from langchain_upstage import UpstageLayoutAnalysisLoader\n",
    "\n",
    "file_path = \"./pdfs/(Cambridge Texts in Biomedical Engineering) W. Mark Saltzman - Biomedical Engineering_ Bridging Medicine and Technology-Cambridge University Press (2009).pdf\"\n",
    "\n",
    "layzer = UpstageLayoutAnalysisLoader(file_path, split=\"page\")\n",
    "\n",
    "# For improved memory efficiency, consider using the lazy_load method to load documents page by page.\n",
    "docs = layzer.load()  # or layzer.lazy_load()"
   ]
  },
  {
   "cell_type": "code",
   "execution_count": 6,
   "id": "eef1b397-331d-48bf-b2aa-9b3fd321849d",
   "metadata": {
    "tags": []
   },
   "outputs": [],
   "source": [
    "from langchain_text_splitters import (\n",
    "    Language,\n",
    "    RecursiveCharacterTextSplitter,\n",
    ")\n",
    "\n",
    "text_splitter = RecursiveCharacterTextSplitter.from_language(\n",
    "    chunk_size=1500, chunk_overlap=200, language=Language.HTML\n",
    ")\n",
    "docs = text_splitter.split_documents(docs)\n",
    "for doc in docs:\n",
    "    doc.metadata['title']=\"Biomedical Engineering_ Bridging Medicine and Technology\""
   ]
  },
  {
   "cell_type": "code",
   "execution_count": 8,
   "id": "91130cfe-2ba0-4598-9885-dfdbf4dda3cc",
   "metadata": {
    "tags": []
   },
   "outputs": [
    {
     "data": {
      "text/plain": [
       "2735"
      ]
     },
     "execution_count": 8,
     "metadata": {},
     "output_type": "execute_result"
    }
   ],
   "source": [
    "len(docs)"
   ]
  },
  {
   "cell_type": "code",
   "execution_count": 9,
   "id": "a6fcbbd5-5826-4154-977f-3d2dd50c1b5f",
   "metadata": {
    "tags": []
   },
   "outputs": [],
   "source": [
    "for doc in docs:\n",
    "    doc.metadata['title']=\"Oracle Database 23ai New Features\""
   ]
  },
  {
   "cell_type": "markdown",
   "id": "b5fe6506-4191-4f79-81d7-5c4e2528eaef",
   "metadata": {},
   "source": [
    "### SolarLLM 임베딩 모델 & 데이터 적재"
   ]
  },
  {
   "cell_type": "code",
   "execution_count": 13,
   "id": "eaf5be7b-4c8e-41e6-a125-10cc86058d39",
   "metadata": {
    "tags": []
   },
   "outputs": [
    {
     "name": "stdout",
     "output_type": "stream",
     "text": [
      "Vectorizing and inserting chunks duration: 547.1 sec.\n"
     ]
    }
   ],
   "source": [
    "from langchain_upstage import UpstageEmbeddings\n",
    " \n",
    "upstage_embeddings = UpstageEmbeddings(model=\"solar-embedding-1-large\")\n",
    "     \n",
    "# Configure the vector store with the model, table name, and using the indicated distance strategy for the similarity search and vectorize the chunks\n",
    "s1time = time.time()\n",
    "\n",
    "knowledge_base = OracleVS.from_documents(docs, upstage_embeddings, client=conn23c, \n",
    "                    table_name=\"biomedical_table\", \n",
    "                    distance_strategy=DistanceStrategy.DOT_PRODUCT)    \n",
    "\n",
    "s2time =  time.time()      \n",
    "print( f\"Vectorizing and inserting chunks duration: {round(s2time - s1time, 1)} sec.\")\n"
   ]
  },
  {
   "cell_type": "markdown",
   "id": "0548a939-31d3-48fe-9227-4570fd99bfb4",
   "metadata": {},
   "source": [
    "## Step 03. Retriever 생성 및 쿼리 테스트"
   ]
  },
  {
   "cell_type": "markdown",
   "id": "200e10a3-d66b-4723-9bb5-f7c23a96b374",
   "metadata": {},
   "source": [
    "### Oracle Database를 위한 Retriever "
   ]
  },
  {
   "cell_type": "code",
   "execution_count": 14,
   "id": "03ce803b-9308-4bed-bb94-cf410f457aa6",
   "metadata": {
    "tags": []
   },
   "outputs": [],
   "source": [
    "vector_store = OracleVS(client=conn23c, \n",
    "                        embedding_function=upstage_embeddings, \n",
    "                        table_name=\"biomedical_table\", \n",
    "                        distance_strategy=DistanceStrategy.DOT_PRODUCT)\n",
    "\n",
    "retriever = vector_store.as_retriever()"
   ]
  },
  {
   "cell_type": "code",
   "execution_count": 37,
   "id": "c19d4b4b-ef96-4d99-a627-94afa2fc0ec0",
   "metadata": {
    "tags": []
   },
   "outputs": [],
   "source": [
    "from langchain_experimental.text_splitter import SemanticChunker\n",
    "quiz_splitter = SemanticChunker(upstage_embeddings)\n",
    "\n",
    "prb_file_path = \"./pdfs/(Prb)Bis200(2024spring)_Quiz1-20240320.pdf\"\n",
    "sol_file_path = \"./pdfs/(Ans)Bis200(2024spring)_Quiz1-20240320.pdf\"\n",
    "\n",
    "prb_lazyer = UpstageLayoutAnalysisLoader(prb_file_path, split=\"page\")\n",
    "prb_docs = prb_lazyer.load()  # or layzer.lazy_load()\n",
    "prb_docs = text_splitter.split_documents(prb_docs)\n",
    "\n",
    "sol_lazyer = UpstageLayoutAnalysisLoader(sol_file_path, split=\"page\")\n",
    "sol_docs = sol_lazyer.load()  # or layzer.lazy_load()\n",
    "sol_docs = text_splitter.split_documents(sol_docs)\n",
    "\n"
   ]
  },
  {
   "cell_type": "code",
   "execution_count": 38,
   "id": "36591294",
   "metadata": {},
   "outputs": [
    {
     "name": "stdout",
     "output_type": "stream",
     "text": [
      "<p id='5' data-category='paragraph' style='font-size:14px'>1. Starting from the familiar image of DNA in metaphase cells, name all the structural levels through<br>which DNA is organized within our cells.<br>2. What are the key enzymes involved in DNA replication in eukaryotic cells and what are their specific<br>functions?<br>3. What are the three principal techniques used in recombinant DNA technology?<br>4. What is the function of the RNA-induced silencing complex (RISC) in the mechanism of siRNA-mediated<br>RNA interference?<br>5. RISC is composed of multiple proteins. What levels of protein structure are present in this complex?</p>\n"
     ]
    }
   ],
   "source": [
    "print(prb_docs[1].page_content)"
   ]
  },
  {
   "cell_type": "markdown",
   "id": "3e5b3334-3031-4516-a64b-6353587bbb17",
   "metadata": {},
   "source": [
    "## Step 04. LangChain 애플리케이션 준비"
   ]
  },
  {
   "cell_type": "code",
   "execution_count": 52,
   "id": "e9d469bb-dc16-4914-bb73-6941b61d7992",
   "metadata": {
    "tags": []
   },
   "outputs": [
    {
     "name": "stdout",
     "output_type": "stream",
     "text": [
      "We are sending the prompt and RAG context to the LLM, wait a few seconds for the response...\n",
      "The solutions from the quiz are as follows:\n",
      "\n",
      "1. Water-soluble molecules are referred to as hydrophilic, molecules that are not easily dissolved in water are called hydrophobic, and molecules that contain both water-soluble and water-insoluble parts are called amphiphilic.\n",
      "2. The enzyme responsible for transcription is RNA polymerase, and the complex that catalyzes translation is the ribosome.\n",
      "3. Introns are the sequences that are spliced or removed during RNA splicing, resulting in an mRNA transcript consisting only of exons.\n",
      "4. The four primary tissue types are muscle, nervous, epithelial, and connective tissues.\n",
      "\n",
      "Send user question and ranked chunks to LLM and get answer duration: 2.8 sec.\n"
     ]
    }
   ],
   "source": [
    "from langchain_upstage import ChatUpstage\n",
    "from langchain_core.messages import HumanMessage, SystemMessage\n",
    " \n",
    "llm = ChatUpstage()\n",
    "template = \"\"\"Please explain the solutions from quiz referencing the below knowledge:\n",
    "              ----------\n",
    "              {context}\n",
    "              ----------\n",
    "              Quiz: {quiz}\n",
    "              Sol: {sol} \n",
    "              \"\"\"\n",
    "prompt = PromptTemplate.from_template(template)\n",
    "retriever = vector_store.as_retriever()\n",
    "s5time = time.time()\n",
    "print(\"We are sending the prompt and RAG context to the LLM, wait a few seconds for the response...\")\n",
    "chain = (\n",
    "  {\"context\": retriever, \"quiz\": RunnablePassthrough(), \"sol\": RunnablePassthrough()}\n",
    "    | prompt\n",
    "    | llm\n",
    "    # | StrOutputParser()\n",
    "    )\n",
    "response = chain.invoke({\"quiz\":prb_docs[0], \"sol\":sol_docs[0]})\n",
    "print(response.content)\n",
    "\n",
    "s6time = time.time()\n",
    "print(\"\")\n",
    "print( f\"Send user question and ranked chunks to LLM and get answer duration: {round(s6time - s5time, 1)} sec.\")"
   ]
  },
  {
   "cell_type": "code",
   "execution_count": 55,
   "id": "3009cfdf",
   "metadata": {},
   "outputs": [
    {
     "data": {
      "text/plain": [
       "{'content': 'The solutions from the quiz are as follows:\\n\\n1. Water-soluble molecules are referred to as hydrophilic, molecules that are not easily dissolved in water are called hydrophobic, and molecules that contain both water-soluble and water-insoluble parts are called amphiphilic.\\n2. The enzyme responsible for transcription is RNA polymerase, and the complex that catalyzes translation is the ribosome.\\n3. Introns are the sequences that are spliced or removed during RNA splicing, resulting in an mRNA transcript consisting only of exons.\\n4. The four primary tissue types are muscle, nervous, epithelial, and connective tissues.',\n",
       " 'additional_kwargs': {},\n",
       " 'response_metadata': {'token_usage': {'completion_tokens': 168,\n",
       "   'prompt_tokens': 2719,\n",
       "   'total_tokens': 2887},\n",
       "  'model_name': 'solar-1-mini-chat-240612',\n",
       "  'system_fingerprint': None,\n",
       "  'finish_reason': 'stop',\n",
       "  'logprobs': None},\n",
       " 'type': 'ai',\n",
       " 'name': None,\n",
       " 'id': 'run-19ceac35-025b-4e0e-b195-aa9110a34094-0',\n",
       " 'example': False,\n",
       " 'tool_calls': [],\n",
       " 'invalid_tool_calls': [],\n",
       " 'usage_metadata': {'input_tokens': 2719,\n",
       "  'output_tokens': 168,\n",
       "  'total_tokens': 2887}}"
      ]
     },
     "execution_count": 55,
     "metadata": {},
     "output_type": "execute_result"
    }
   ],
   "source": [
    "response.__dict__"
   ]
  }
 ],
 "metadata": {
  "kernelspec": {
   "display_name": "Python 3 (ipykernel)",
   "language": "python",
   "name": "python3"
  },
  "language_info": {
   "codemirror_mode": {
    "name": "ipython",
    "version": 3
   },
   "file_extension": ".py",
   "mimetype": "text/x-python",
   "name": "python",
   "nbconvert_exporter": "python",
   "pygments_lexer": "ipython3",
   "version": "3.8.19"
  }
 },
 "nbformat": 4,
 "nbformat_minor": 5
}
