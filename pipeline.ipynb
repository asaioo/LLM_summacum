{
 "cells": [
  {
   "cell_type": "markdown",
   "id": "474eaf34-d4ab-4a5a-813d-12fbbe80142f",
   "metadata": {
    "tags": []
   },
   "source": [
    "# RAG Application: LangChain, SolarLLM, Oracle Database 23ai"
   ]
  },
  {
   "cell_type": "markdown",
   "id": "fd84f3ca-29c1-4920-b288-078f89f752c3",
   "metadata": {},
   "source": [
    "## Step 01. 사전 준비"
   ]
  },
  {
   "cell_type": "markdown",
   "id": "32b30bb2-3177-46eb-8401-e6711c5e42b5",
   "metadata": {
    "tags": []
   },
   "source": [
    "## 01.01 환경 변수 설정"
   ]
  },
  {
   "cell_type": "code",
   "execution_count": 1,
   "id": "6fe3e5c9-35f4-4503-9ea0-1f4c06a093c7",
   "metadata": {
    "tags": []
   },
   "outputs": [
    {
     "name": "stdout",
     "output_type": "stream",
     "text": [
      "Requirement already satisfied: langchain-experimental in /home/earth/anaconda3/envs/sgparser/lib/python3.8/site-packages (0.0.62)\n",
      "Requirement already satisfied: langchain-community<0.3.0,>=0.2.6 in /home/earth/anaconda3/envs/sgparser/lib/python3.8/site-packages (from langchain-experimental) (0.2.6)\n",
      "Requirement already satisfied: langchain-core<0.3.0,>=0.2.10 in /home/earth/anaconda3/envs/sgparser/lib/python3.8/site-packages (from langchain-experimental) (0.2.11)\n",
      "Requirement already satisfied: PyYAML>=5.3 in /home/earth/anaconda3/envs/sgparser/lib/python3.8/site-packages (from langchain-community<0.3.0,>=0.2.6->langchain-experimental) (6.0.1)\n",
      "Requirement already satisfied: SQLAlchemy<3,>=1.4 in /home/earth/anaconda3/envs/sgparser/lib/python3.8/site-packages (from langchain-community<0.3.0,>=0.2.6->langchain-experimental) (2.0.31)\n",
      "Requirement already satisfied: aiohttp<4.0.0,>=3.8.3 in /home/earth/anaconda3/envs/sgparser/lib/python3.8/site-packages (from langchain-community<0.3.0,>=0.2.6->langchain-experimental) (3.9.5)\n",
      "Requirement already satisfied: dataclasses-json<0.7,>=0.5.7 in /home/earth/anaconda3/envs/sgparser/lib/python3.8/site-packages (from langchain-community<0.3.0,>=0.2.6->langchain-experimental) (0.6.7)\n",
      "Requirement already satisfied: langchain<0.3.0,>=0.2.6 in /home/earth/anaconda3/envs/sgparser/lib/python3.8/site-packages (from langchain-community<0.3.0,>=0.2.6->langchain-experimental) (0.2.6)\n",
      "Requirement already satisfied: langsmith<0.2.0,>=0.1.0 in /home/earth/anaconda3/envs/sgparser/lib/python3.8/site-packages (from langchain-community<0.3.0,>=0.2.6->langchain-experimental) (0.1.83)\n",
      "Requirement already satisfied: numpy<2,>=1 in /home/earth/anaconda3/envs/sgparser/lib/python3.8/site-packages (from langchain-community<0.3.0,>=0.2.6->langchain-experimental) (1.24.3)\n",
      "Requirement already satisfied: requests<3,>=2 in /home/earth/anaconda3/envs/sgparser/lib/python3.8/site-packages (from langchain-community<0.3.0,>=0.2.6->langchain-experimental) (2.31.0)\n",
      "Requirement already satisfied: tenacity!=8.4.0,<9.0.0,>=8.1.0 in /home/earth/anaconda3/envs/sgparser/lib/python3.8/site-packages (from langchain-community<0.3.0,>=0.2.6->langchain-experimental) (8.5.0)\n",
      "Requirement already satisfied: jsonpatch<2.0,>=1.33 in /home/earth/anaconda3/envs/sgparser/lib/python3.8/site-packages (from langchain-core<0.3.0,>=0.2.10->langchain-experimental) (1.33)\n",
      "Requirement already satisfied: packaging<25,>=23.2 in /home/earth/anaconda3/envs/sgparser/lib/python3.8/site-packages (from langchain-core<0.3.0,>=0.2.10->langchain-experimental) (24.1)\n",
      "Requirement already satisfied: pydantic<3,>=1 in /home/earth/anaconda3/envs/sgparser/lib/python3.8/site-packages (from langchain-core<0.3.0,>=0.2.10->langchain-experimental) (2.7.1)\n",
      "Requirement already satisfied: aiosignal>=1.1.2 in /home/earth/anaconda3/envs/sgparser/lib/python3.8/site-packages (from aiohttp<4.0.0,>=3.8.3->langchain-community<0.3.0,>=0.2.6->langchain-experimental) (1.3.1)\n",
      "Requirement already satisfied: attrs>=17.3.0 in /home/earth/anaconda3/envs/sgparser/lib/python3.8/site-packages (from aiohttp<4.0.0,>=3.8.3->langchain-community<0.3.0,>=0.2.6->langchain-experimental) (23.2.0)\n",
      "Requirement already satisfied: frozenlist>=1.1.1 in /home/earth/anaconda3/envs/sgparser/lib/python3.8/site-packages (from aiohttp<4.0.0,>=3.8.3->langchain-community<0.3.0,>=0.2.6->langchain-experimental) (1.4.1)\n",
      "Requirement already satisfied: multidict<7.0,>=4.5 in /home/earth/anaconda3/envs/sgparser/lib/python3.8/site-packages (from aiohttp<4.0.0,>=3.8.3->langchain-community<0.3.0,>=0.2.6->langchain-experimental) (6.0.5)\n",
      "Requirement already satisfied: yarl<2.0,>=1.0 in /home/earth/anaconda3/envs/sgparser/lib/python3.8/site-packages (from aiohttp<4.0.0,>=3.8.3->langchain-community<0.3.0,>=0.2.6->langchain-experimental) (1.9.4)\n",
      "Requirement already satisfied: async-timeout<5.0,>=4.0 in /home/earth/anaconda3/envs/sgparser/lib/python3.8/site-packages (from aiohttp<4.0.0,>=3.8.3->langchain-community<0.3.0,>=0.2.6->langchain-experimental) (4.0.3)\n",
      "Requirement already satisfied: marshmallow<4.0.0,>=3.18.0 in /home/earth/anaconda3/envs/sgparser/lib/python3.8/site-packages (from dataclasses-json<0.7,>=0.5.7->langchain-community<0.3.0,>=0.2.6->langchain-experimental) (3.21.3)\n",
      "Requirement already satisfied: typing-inspect<1,>=0.4.0 in /home/earth/anaconda3/envs/sgparser/lib/python3.8/site-packages (from dataclasses-json<0.7,>=0.5.7->langchain-community<0.3.0,>=0.2.6->langchain-experimental) (0.9.0)\n",
      "Requirement already satisfied: jsonpointer>=1.9 in /home/earth/anaconda3/envs/sgparser/lib/python3.8/site-packages (from jsonpatch<2.0,>=1.33->langchain-core<0.3.0,>=0.2.10->langchain-experimental) (3.0.0)\n",
      "Requirement already satisfied: langchain-text-splitters<0.3.0,>=0.2.0 in /home/earth/anaconda3/envs/sgparser/lib/python3.8/site-packages (from langchain<0.3.0,>=0.2.6->langchain-community<0.3.0,>=0.2.6->langchain-experimental) (0.2.2)\n",
      "Requirement already satisfied: orjson<4.0.0,>=3.9.14 in /home/earth/anaconda3/envs/sgparser/lib/python3.8/site-packages (from langsmith<0.2.0,>=0.1.0->langchain-community<0.3.0,>=0.2.6->langchain-experimental) (3.10.6)\n",
      "Requirement already satisfied: annotated-types>=0.4.0 in /home/earth/anaconda3/envs/sgparser/lib/python3.8/site-packages (from pydantic<3,>=1->langchain-core<0.3.0,>=0.2.10->langchain-experimental) (0.6.0)\n",
      "Requirement already satisfied: pydantic-core==2.18.2 in /home/earth/anaconda3/envs/sgparser/lib/python3.8/site-packages (from pydantic<3,>=1->langchain-core<0.3.0,>=0.2.10->langchain-experimental) (2.18.2)\n",
      "Requirement already satisfied: typing-extensions>=4.6.1 in /home/earth/.local/lib/python3.8/site-packages (from pydantic<3,>=1->langchain-core<0.3.0,>=0.2.10->langchain-experimental) (4.9.0)\n",
      "Requirement already satisfied: charset-normalizer<4,>=2 in /home/earth/.local/lib/python3.8/site-packages (from requests<3,>=2->langchain-community<0.3.0,>=0.2.6->langchain-experimental) (3.1.0)\n",
      "Requirement already satisfied: idna<4,>=2.5 in /home/earth/anaconda3/envs/sgparser/lib/python3.8/site-packages (from requests<3,>=2->langchain-community<0.3.0,>=0.2.6->langchain-experimental) (3.7)\n",
      "Requirement already satisfied: urllib3<3,>=1.21.1 in /home/earth/anaconda3/envs/sgparser/lib/python3.8/site-packages (from requests<3,>=2->langchain-community<0.3.0,>=0.2.6->langchain-experimental) (2.2.2)\n",
      "Requirement already satisfied: certifi>=2017.4.17 in /home/earth/anaconda3/envs/sgparser/lib/python3.8/site-packages (from requests<3,>=2->langchain-community<0.3.0,>=0.2.6->langchain-experimental) (2024.2.2)\n",
      "Requirement already satisfied: greenlet!=0.4.17 in /home/earth/anaconda3/envs/sgparser/lib/python3.8/site-packages (from SQLAlchemy<3,>=1.4->langchain-community<0.3.0,>=0.2.6->langchain-experimental) (3.0.3)\n",
      "Requirement already satisfied: mypy-extensions>=0.3.0 in /home/earth/.local/lib/python3.8/site-packages (from typing-inspect<1,>=0.4.0->dataclasses-json<0.7,>=0.5.7->langchain-community<0.3.0,>=0.2.6->langchain-experimental) (1.0.0)\n",
      "\n",
      "\u001b[1m[\u001b[0m\u001b[34;49mnotice\u001b[0m\u001b[1;39;49m]\u001b[0m\u001b[39;49m A new release of pip is available: \u001b[0m\u001b[31;49m24.0\u001b[0m\u001b[39;49m -> \u001b[0m\u001b[32;49m24.1.1\u001b[0m\n",
      "\u001b[1m[\u001b[0m\u001b[34;49mnotice\u001b[0m\u001b[1;39;49m]\u001b[0m\u001b[39;49m To update, run: \u001b[0m\u001b[32;49mpip install --upgrade pip\u001b[0m\n"
     ]
    }
   ],
   "source": [
    "!pip install langchain-experimental\n",
    "%load_ext dotenv\n",
    "%dotenv"
   ]
  },
  {
   "cell_type": "markdown",
   "id": "22fc3fee-5970-4b70-9c53-a6010ef83011",
   "metadata": {
    "tags": []
   },
   "source": [
    "### 01.02 관련 패키지 로딩"
   ]
  },
  {
   "cell_type": "code",
   "execution_count": 2,
   "id": "cda491fe-9c43-4d98-b6ef-ea6c96a9001c",
   "metadata": {
    "tags": []
   },
   "outputs": [
    {
     "name": "stdout",
     "output_type": "stream",
     "text": [
      "Successfully imported libraries and modules\n"
     ]
    }
   ],
   "source": [
    "import sys\n",
    "import array\n",
    "import time\n",
    "import os\n",
    "from dotenv import load_dotenv\n",
    "\n",
    "import oracledb\n",
    "from langchain_community.vectorstores import oraclevs\n",
    "from langchain_community.vectorstores.oraclevs import OracleVS\n",
    "\n",
    "from langchain_community.vectorstores.utils import DistanceStrategy\n",
    "from langchain_core.documents import BaseDocumentTransformer, Document\n",
    "\n",
    "from langchain_core.prompts import PromptTemplate\n",
    "from langchain.chains import LLMChain\n",
    "from langchain_core.runnables import RunnablePassthrough\n",
    "from langchain_core.output_parsers import StrOutputParser\n",
    "from langchain_upstage import UpstageEmbeddings, UpstageLayoutAnalysisLoader\n",
    "from langchain_upstage import ChatUpstage\n",
    "from langchain_core.messages import HumanMessage, SystemMessage\n",
    "\n",
    "import warnings\n",
    "warnings.filterwarnings(\"ignore\")\n",
    "\n",
    "print(\"Successfully imported libraries and modules\")"
   ]
  },
  {
   "cell_type": "markdown",
   "id": "cc72ed37-28d8-4428-a32c-57f73174e4d1",
   "metadata": {
    "tags": []
   },
   "source": [
    "### 01.03 데이터베이스 연결 "
   ]
  },
  {
   "cell_type": "code",
   "execution_count": 3,
   "id": "993e8d02-7be9-4c3c-96c2-ac72b59e4f16",
   "metadata": {
    "tags": []
   },
   "outputs": [
    {
     "name": "stdout",
     "output_type": "stream",
     "text": [
      "Connection successful! 23.4.1.24.6\n"
     ]
    }
   ],
   "source": [
    "username=os.environ[\"DB_USER\"]\n",
    "password=os.environ[\"DB_PASSWORD\"]\n",
    "dsn=os.environ[\"DSN\"]\n",
    "\n",
    "con = oracledb.connect(user=username, password=password, dsn=dsn)\n",
    "\n",
    "try: \n",
    "    conn23c = oracledb.connect(user=username, password=password, dsn=dsn)\n",
    "    print(\"Connection successful!\", conn23c.version)\n",
    "except Exception as e:\n",
    "    print(\"Connection failed!\")"
   ]
  },
  {
   "cell_type": "markdown",
   "id": "2607ae59-5cbe-40d0-8e63-e9a25031f3d6",
   "metadata": {
    "tags": []
   },
   "source": [
    "## Step 02. Load the document "
   ]
  },
  {
   "cell_type": "markdown",
   "id": "01b8dfb4-4655-45fe-919f-37c7eb1fdd2b",
   "metadata": {},
   "source": [
    "### 텍스트 추출: UpstageLayoutAnalysisLoader"
   ]
  },
  {
   "cell_type": "code",
   "execution_count": null,
   "id": "e175a61e-f6da-46ac-8439-1e0ccd3932ab",
   "metadata": {
    "tags": []
   },
   "outputs": [],
   "source": [
    "\n",
    "file_path = \"./pdfs/(Cambridge Texts in Biomedical Engineering) W. Mark Saltzman - Biomedical Engineering_ Bridging Medicine and Technology-Cambridge University Press (2009).pdf\"\n",
    "\n",
    "layzer = UpstageLayoutAnalysisLoader(file_path, split=\"page\")\n",
    "\n",
    "# For improved memory efficiency, consider using the lazy_load method to load documents page by page.\n",
    "docs = layzer.load()  # or layzer.lazy_load()"
   ]
  },
  {
   "cell_type": "code",
   "execution_count": null,
   "id": "eef1b397-331d-48bf-b2aa-9b3fd321849d",
   "metadata": {
    "tags": []
   },
   "outputs": [],
   "source": [
    "from langchain_text_splitters import (\n",
    "    Language,\n",
    "    RecursiveCharacterTextSplitter,\n",
    ")\n",
    "\n",
    "text_splitter = RecursiveCharacterTextSplitter.from_language(\n",
    "    chunk_size=1500, chunk_overlap=200, language=Language.HTML\n",
    ")\n",
    "docs = text_splitter.split_documents(docs)\n",
    "for doc in docs:\n",
    "    doc.metadata['title']=\"Biomedical Engineering_ Bridging Medicine and Technology\""
   ]
  },
  {
   "cell_type": "code",
   "execution_count": null,
   "id": "91130cfe-2ba0-4598-9885-dfdbf4dda3cc",
   "metadata": {
    "tags": []
   },
   "outputs": [
    {
     "data": {
      "text/plain": [
       "2735"
      ]
     },
     "execution_count": 8,
     "metadata": {},
     "output_type": "execute_result"
    }
   ],
   "source": [
    "len(docs)"
   ]
  },
  {
   "cell_type": "markdown",
   "id": "b5fe6506-4191-4f79-81d7-5c4e2528eaef",
   "metadata": {},
   "source": [
    "### SolarLLM 임베딩 모델 & 데이터 적재"
   ]
  },
  {
   "cell_type": "code",
   "execution_count": 7,
   "id": "eaf5be7b-4c8e-41e6-a125-10cc86058d39",
   "metadata": {
    "tags": []
   },
   "outputs": [
    {
     "ename": "NameError",
     "evalue": "name 'docs' is not defined",
     "output_type": "error",
     "traceback": [
      "\u001b[0;31m---------------------------------------------------------------------------\u001b[0m",
      "\u001b[0;31mNameError\u001b[0m                                 Traceback (most recent call last)",
      "Cell \u001b[0;32mIn[7], line 6\u001b[0m\n\u001b[1;32m      3\u001b[0m \u001b[38;5;66;03m# Configure the vector store with the model, table name, and using the indicated distance strategy for the similarity search and vectorize the chunks\u001b[39;00m\n\u001b[1;32m      4\u001b[0m s1time \u001b[38;5;241m=\u001b[39m time\u001b[38;5;241m.\u001b[39mtime()\n\u001b[0;32m----> 6\u001b[0m knowledge_base \u001b[38;5;241m=\u001b[39m OracleVS\u001b[38;5;241m.\u001b[39mfrom_documents(\u001b[43mdocs\u001b[49m, upstage_embeddings, client\u001b[38;5;241m=\u001b[39mconn23c, \n\u001b[1;32m      7\u001b[0m                     table_name\u001b[38;5;241m=\u001b[39m\u001b[38;5;124m\"\u001b[39m\u001b[38;5;124mbiomedical_table\u001b[39m\u001b[38;5;124m\"\u001b[39m, \n\u001b[1;32m      8\u001b[0m                     distance_strategy\u001b[38;5;241m=\u001b[39mDistanceStrategy\u001b[38;5;241m.\u001b[39mDOT_PRODUCT)    \n\u001b[1;32m     10\u001b[0m s2time \u001b[38;5;241m=\u001b[39m  time\u001b[38;5;241m.\u001b[39mtime()      \n\u001b[1;32m     11\u001b[0m \u001b[38;5;28mprint\u001b[39m( \u001b[38;5;124mf\u001b[39m\u001b[38;5;124m\"\u001b[39m\u001b[38;5;124mVectorizing and inserting chunks duration: \u001b[39m\u001b[38;5;132;01m{\u001b[39;00m\u001b[38;5;28mround\u001b[39m(s2time\u001b[38;5;250m \u001b[39m\u001b[38;5;241m-\u001b[39m\u001b[38;5;250m \u001b[39ms1time,\u001b[38;5;250m \u001b[39m\u001b[38;5;241m1\u001b[39m)\u001b[38;5;132;01m}\u001b[39;00m\u001b[38;5;124m sec.\u001b[39m\u001b[38;5;124m\"\u001b[39m)\n",
      "\u001b[0;31mNameError\u001b[0m: name 'docs' is not defined"
     ]
    }
   ],
   "source": [
    "upstage_embeddings = UpstageEmbeddings(model=\"solar-embedding-1-large\")\n",
    "     \n",
    "# Configure the vector store with the model, table name, and using the indicated distance strategy for the similarity search and vectorize the chunks\n",
    "s1time = time.time()\n",
    "\n",
    "knowledge_base = OracleVS.from_documents(docs, upstage_embeddings, client=conn23c, \n",
    "                    table_name=\"biomedical_table\", \n",
    "                    distance_strategy=DistanceStrategy.DOT_PRODUCT)    \n",
    "\n",
    "s2time =  time.time()      \n",
    "print( f\"Vectorizing and inserting chunks duration: {round(s2time - s1time, 1)} sec.\")\n"
   ]
  },
  {
   "cell_type": "markdown",
   "id": "0548a939-31d3-48fe-9227-4570fd99bfb4",
   "metadata": {},
   "source": [
    "## Step 03. Retriever 생성 및 쿼리 테스트"
   ]
  },
  {
   "cell_type": "markdown",
   "id": "200e10a3-d66b-4723-9bb5-f7c23a96b374",
   "metadata": {},
   "source": [
    "### Oracle Database를 위한 Retriever "
   ]
  },
  {
   "cell_type": "code",
   "execution_count": 4,
   "id": "03ce803b-9308-4bed-bb94-cf410f457aa6",
   "metadata": {
    "tags": []
   },
   "outputs": [],
   "source": [
    "upstage_embeddings = UpstageEmbeddings(model=\"solar-embedding-1-large\")\n",
    "\n",
    "vector_store = OracleVS(client=conn23c, \n",
    "                        embedding_function=upstage_embeddings, \n",
    "                        table_name=\"biomedical_table\", \n",
    "                        distance_strategy=DistanceStrategy.DOT_PRODUCT)\n",
    "\n",
    "retriever = vector_store.as_retriever()"
   ]
  },
  {
   "cell_type": "code",
   "execution_count": 5,
   "id": "a391a3f3",
   "metadata": {},
   "outputs": [],
   "source": [
    "prb_file_path = \"./pdfs/(Prb)Bis200(2024spring)_Quiz1-20240320.pdf\"\n",
    "sol_file_path = \"./pdfs/(Ans)Bis200(2024spring)_Quiz1-20240320.pdf\"\n",
    "\n",
    "prb_lazyer = UpstageLayoutAnalysisLoader(prb_file_path, split=\"page\")\n",
    "prb_docs = prb_lazyer.load()  # or layzer.lazy_load()\n",
    "sol_lazyer = UpstageLayoutAnalysisLoader(sol_file_path, split=\"page\")\n",
    "sol_docs = sol_lazyer.load()  # or layzer.lazy_load()"
   ]
  },
  {
   "cell_type": "code",
   "execution_count": 6,
   "id": "36591294",
   "metadata": {},
   "outputs": [
    {
     "name": "stdout",
     "output_type": "stream",
     "text": [
      "<h1 id='0' style='font-size:18px'>BiS200 Quiz#1 (2024-03-20)</h1> <br><p id='1' data-category='paragraph' style='font-size:14px'>Answer in English, Closed book, 15 minutes<br>There will be a class after the quiz.</p> <br><h1 id='2' style='font-size:14px'>Fill-in-the-blank questions:</h1> <br><p id='3' data-category='paragraph' style='font-size:14px'>1. Water-soluble molecules are referred to as ( ), molecules that are not easily dissolved in water are<br>called ( ), and molecules that contain both water-soluble and water-insoluble parts are called ( ).<br>2. The enzyme responsible for transcription is ( ), and the complex that catalyzes translation is the ( ).<br>3. ( ) are the sequences that are spliced or removed during RNA splicing, resulting in an mRNA transcript<br>consisting only of ( ).<br>4. The four primary tissue types are muscle, nervous, epithelial, and ( ).</p> <h1 id='4' style='font-size:14px'>Short-answer questions:</h1> <br><p id='5' data-category='paragraph' style='font-size:14px'>1. Starting from the familiar image of DNA in metaphase cells, name all the structural levels through<br>which DNA is organized within our cells.<br>2. What are the key enzymes involved in DNA replication in eukaryotic cells and what are their specific<br>functions?<br>3. What are the three principal techniques used in recombinant DNA technology?<br>4. What is the function of the RNA-induced silencing complex (RISC) in the mechanism of siRNA-mediated<br>RNA interference?<br>5. RISC is composed of multiple proteins. What levels of protein structure are present in this complex?</p>\n"
     ]
    }
   ],
   "source": [
    "print((prb_docs[0].page_content))"
   ]
  },
  {
   "cell_type": "code",
   "execution_count": 29,
   "id": "bfe43d6c",
   "metadata": {},
   "outputs": [
    {
     "name": "stdout",
     "output_type": "stream",
     "text": [
      "We are sending the prompt and RAG context to the LLM, wait a few seconds for the response...\n",
      "I have extracted the quiz with the label 'problems' from the provided content. Here it is:\n",
      "```vbnet\n",
      "{'label': 'problems', 'context': \"<h1 id='0' style='font-size:18px'>BiS200 Quiz#1 (2024-03-20)</h1> <br><p id='1' data-category='paragraph' style='font-size:14px'>Answer in English, Closed book, 15 minutes<br>There will be a class after the quiz.</p> <br><h1 id='2' style='font-size:14px'>Fill-in-the-blank questions:</h1> <br><p id='3' data-category='paragraph' style='font-size:14px'>1. Water-soluble molecules are referred to as ( ), molecules that are not easily dissolved in water are<br>called ( ), and molecules that contain both water-soluble and water-insoluble parts are called ( ).<br>2. The enzyme responsible for transcription is ( ), and the complex that catalyzes translation is the ( ).<br>3. ( ) are the sequences that are spliced or removed during RNA splicing, resulting in an mRNA transcript<br>consisting only of ( ).<br>4. The four primary tissue types are muscle, nervous, epithelial, and ( ).</p> <h1 id='4' style='font-size:14px'>Short-answer questions:</h1> <br><p id='5' data-category='paragraph' style='font-size:14px'>1. Starting from the familiar image of DNA in metaphase cells, name all the structural levels through<br>which DNA is organized within our cells.<br>2. What are the key enzymes involved in DNA replication in eukaryotic cells and what are their specific<br>functions?<br>3. What are the three principal techniques used in recombinant DNA technology?<br>4. What is the function of the RNA-induced silencing complex (RISC) in the mechanism of siRNA-mediated<br>RNA interference?<br>5. RISC is composed of multiple proteins. What levels of protein structure are present in this complex?</p>\"}\n",
      "```\n",
      "\n",
      "Send user question and ranked chunks to LLM and get answer duration: 5.7 sec.\n",
      "We are sending the prompt and RAG context to the LLM, wait a few seconds for the response...\n",
      "The provided content is a quiz with fill-in-the-blank, short-answer, and multiple-choice questions related to biology. The quiz covers topics such as water solubility of molecules, enzymes involved in transcription and translation, RNA splicing, primary tissue types, DNA organization, enzymes involved in DNA replication, recombinant DNA technology, and the function of the RNA-induced silencing complex (RISC).\n",
      "\n",
      "Send user question and ranked chunks to LLM and get answer duration: 8.7 sec.\n"
     ]
    }
   ],
   "source": [
    "# parser = ChatUpstage()\n",
    "# template = \"\"\"Please extract only the quiz {label} from the provided content.\n",
    "#               -----\n",
    "#               {context}\n",
    "#               -----\n",
    "#               \"\"\"\n",
    "# prompt = PromptTemplate.from_template(template)\n",
    "# s5time = time.time()\n",
    "# print(\"We are sending the prompt and RAG context to the LLM, wait a few seconds for the response...\")\n",
    "# chain = (\n",
    "#   {\"label\": RunnablePassthrough(), \"context\": RunnablePassthrough()}\n",
    "#     | prompt\n",
    "#     | parser\n",
    "#     | StrOutputParser()\n",
    "#     )\n",
    "# prb_response = chain.invoke({\"label\":\"problems\", \"context\": prb_docs[0].page_content})\n",
    "# print(prb_response)\n",
    "\n",
    "# s6time = time.time()\n",
    "# print(\"\")\n",
    "# print( f\"Send user question and ranked chunks to LLM and get answer duration: {round(s6time - s5time, 1)} sec.\")\n",
    "\n",
    "# print(\"We are sending the prompt and RAG context to the LLM, wait a few seconds for the response...\")\n",
    "# sol_response = chain.invoke({\"label\": \"solutions\",\"context\":sol_docs[0].page_content})\n",
    "# print(sol_response)\n",
    "\n",
    "# s6time = time.time()\n",
    "# print(\"\")\n",
    "# print( f\"Send user question and ranked chunks to LLM and get answer duration: {round(s6time - s5time, 1)} sec.\")"
   ]
  },
  {
   "cell_type": "markdown",
   "id": "3e5b3334-3031-4516-a64b-6353587bbb17",
   "metadata": {},
   "source": [
    "## Step 04. LangChain 애플리케이션 준비"
   ]
  },
  {
   "cell_type": "code",
   "execution_count": 13,
   "id": "e9d469bb-dc16-4914-bb73-6941b61d7992",
   "metadata": {
    "tags": []
   },
   "outputs": [
    {
     "name": "stdout",
     "output_type": "stream",
     "text": [
      "We are sending the prompt and RAG context to the LLM, wait a few seconds for the response...\n",
      "Quiz Solutions:\n",
      "\n",
      "1. Water-soluble molecules are referred to as \"soluble,\" molecules that are not easily dissolved in water are called \"insoluble,\" and molecules that contain both water-soluble and water-insoluble parts are called \"amphiphilic.\"\n",
      "2. The enzyme responsible for transcription is \"RNA polymerase,\" and the complex that catalyzes translation is the \"ribosome.\"\n",
      "3. \"Introns\" are the sequences that are spliced or removed during RNA splicing, resulting in an mRNA transcript consisting only of \"exons.\"\n",
      "4. The fourth primary tissue type is \"connective tissue.\"\n",
      "\n",
      "Short-answer questions:\n",
      "\n",
      "1. The structural levels of DNA organization within our cells are: chromosomes, chromatin, nucleosomes, DNA-histone complexes, and DNA double helix.\n",
      "2. The key enzymes involved in DNA replication in eukaryotic cells are DNA polymerase, primase, helicase, and topoisomerase. DNA polymerase adds nucleotides to the growing DNA strand, primase synthesizes RNA primers, helicase unwinds the DNA double helix, and topoisomerase relaxes the tension caused by DNA replication.\n",
      "3. The three principal techniques used in recombinant DNA technology are: restriction enzyme digestion, ligation, and transformation.\n",
      "4. The function of the RNA-induced silencing complex (RISC) in the mechanism of siRNA-mediated RNA interference is to guide the complex to the target mRNA, where it cleaves the mRNA, thereby suppressing gene expression.\n",
      "5. RISC is composed of multiple proteins, and the levels of protein structure present in this complex are primary, secondary, and tertiary structures.\n",
      "\n",
      "Send user question and ranked chunks to LLM and get answer duration: 5.1 sec.\n",
      "Answer is grounded\n",
      "[ref] <br>cleavage furrow the constriction of the cell membrane during anaphase at the<br>tor of the cell that marks the beginning of cytokinesis in animal cells. As the<br>deepens, the cell divides.<br>cotransporter a secondary active transport system in which both the primary<br>secondary solute move in same direction across the membrane<br>crisis the critical point in culture of tissues in which the cell must adapt<br>culture environment or die<br>cytokinesis division of the cytoplasm of a cell in which two daughter cells<br>cytoskeleton a structural support of the cell composed of protein ﬁlaments<br>facilitate cell division, movement, and shape; the protein ﬁlaments that<br>the cytoskeleton also serve as tracks in which substances are transported<br>the cell<br>differentiation changes in cell shape and physiology associated with the production<br>of the mature cell types of a particular organ or tissue<br>DNA synthesis the process of copying a double-stranded DNA strand prior<br>division resulting in two copies of the original DNA strand</p> <br>\n",
      "<p id='1' data-category='paragraph' style='font-size:18px'>eukaryotic a cell that maintains distinct organelles, a cytoskeleton, and<br>such as fungi, protozoa, plants, and animals<br>exchanger a secondary active transport system in which the primary and<br>solute move in opposite directions across the membrane<br>extracellular matrix (ECM) any material produced by the cell and secreted<br>the surrounding medium, generally characterized as a three-dimensional<br>embedded in a gel containing proteins and ﬁlament ﬁbers<br>G 0 phase the period of time in which the cell has completely exited the cell<br>G 1 phase the period of time representing the gap between mitosis (M phase)<br>DNA synthesis (S phase)<br>glycosaminoglycans (GAGs) long, unbranched polysaccharide molecules<br>found on the cell membrane and help give various tissue desired structure<br>Golgi apparatus an organelle composed of stacks of separate intracellular<br>brane compartments that function to modify and package secreted and<br>membrane proteins<br>growth factors serum proteins that stimulate cell division when they bind<br>corresponding cell-surface receptor<br>hematopoietic stem cells undifferentiated cells in the bone marrow that have<br>ability to both multiply and differentiate into speciﬁc blood cells<br>in vitro biological or chemical work done in a test tube rather than in the<br>itself<br>integrins the largest family of adhesion molecules that mediate cell–cell,\n",
      "<br>\n",
      "<p id='300' data-category='paragraph' style='font-size:16px'>within</p> <p id='301' data-category='paragraph' style='font-size:16px'>to cell</p>\n",
      "\n"
     ]
    }
   ],
   "source": [
    "from langchain_upstage import UpstageGroundednessCheck\n",
    "\n",
    "groundedness_check = UpstageGroundednessCheck()\n",
    "llm = ChatUpstage()\n",
    "template = \"\"\"Please give me the solutions from quiz referencing the below knowledge:\n",
    "              ----------\n",
    "              {context}\n",
    "              ----------\n",
    "              Quiz: {quiz}\n",
    "              \"\"\"\n",
    "prompt = PromptTemplate.from_template(template)\n",
    "k=4\n",
    "grounded = False\n",
    "while not grounded:\n",
    "  retriever = vector_store.as_retriever(k=k)\n",
    "  s5time = time.time()\n",
    "  print(\"We are sending the prompt and RAG context to the LLM, wait a few seconds for the response...\")\n",
    "  chain = (\n",
    "    # {\"context\": retriever, \"quiz\": RunnablePassthrough(), \"sol\": RunnablePassthrough()}\n",
    "    {\"context\": retriever, \"quiz\": RunnablePassthrough()}\n",
    "      | prompt\n",
    "      | llm\n",
    "      | StrOutputParser()\n",
    "      )\n",
    "  # response = chain.invoke({\"quiz\":prb_docs[0], \"sol\":sol_docs[0]})\n",
    "  response = chain.invoke({\"quiz\":prb_docs[0].page_content})\n",
    "  print(response)\n",
    "\n",
    "  s6time = time.time()\n",
    "  print(\"\")\n",
    "  print( f\"Send user question and ranked chunks to LLM and get answer duration: {round(s6time - s5time, 1)} sec.\")\n",
    "  \n",
    "  result_chunks=vector_store.similarity_search(prb_docs[0].page_content, k=k)\n",
    "  ref = \"\"\n",
    "  for i in range(k):\n",
    "    ref += result_chunks[i].page_content\n",
    "    ref += \"\\n\"\n",
    "  gc_result = groundedness_check.invoke({\"context\": ref, \"answer\": response})\n",
    "\n",
    "  # print(\"GC check result: \", gc_result)\n",
    "  if gc_result.lower().startswith(\"grounded\"):\n",
    "    print(f\"Answer is grounded\\n[ref] {ref}\")\n",
    "    grounded = True\n",
    "  else:\n",
    "    print(f\"answer is not grounded with k={k}\")\n",
    "    k *=2\n",
    "\n"
   ]
  },
  {
   "cell_type": "code",
   "execution_count": null,
   "id": "e5d8ce6c",
   "metadata": {},
   "outputs": [],
   "source": []
  }
 ],
 "metadata": {
  "kernelspec": {
   "display_name": "Python 3 (ipykernel)",
   "language": "python",
   "name": "python3"
  },
  "language_info": {
   "codemirror_mode": {
    "name": "ipython",
    "version": 3
   },
   "file_extension": ".py",
   "mimetype": "text/x-python",
   "name": "python",
   "nbconvert_exporter": "python",
   "pygments_lexer": "ipython3",
   "version": "3.8.19"
  }
 },
 "nbformat": 4,
 "nbformat_minor": 5
}
