{
 "cells": [
  {
   "cell_type": "markdown",
   "id": "474eaf34-d4ab-4a5a-813d-12fbbe80142f",
   "metadata": {
    "tags": []
   },
   "source": [
    "# RAG Application: LangChain, SolarLLM, Oracle Database 23ai"
   ]
  },
  {
   "cell_type": "markdown",
   "id": "fd84f3ca-29c1-4920-b288-078f89f752c3",
   "metadata": {},
   "source": [
    "## Step 01. 사전 준비"
   ]
  },
  {
   "cell_type": "markdown",
   "id": "32b30bb2-3177-46eb-8401-e6711c5e42b5",
   "metadata": {
    "tags": []
   },
   "source": [
    "## 01.01 환경 변수 설정"
   ]
  },
  {
   "cell_type": "code",
   "execution_count": 8,
   "id": "6fe3e5c9-35f4-4503-9ea0-1f4c06a093c7",
   "metadata": {
    "tags": []
   },
   "outputs": [
    {
     "name": "stdout",
     "output_type": "stream",
     "text": [
      "The dotenv extension is already loaded. To reload it, use:\n",
      "  %reload_ext dotenv\n"
     ]
    }
   ],
   "source": [
    "%load_ext dotenv\n",
    "%dotenv"
   ]
  },
  {
   "cell_type": "markdown",
   "id": "22fc3fee-5970-4b70-9c53-a6010ef83011",
   "metadata": {
    "tags": []
   },
   "source": [
    "### 01.02 관련 패키지 로딩"
   ]
  },
  {
   "cell_type": "code",
   "execution_count": 9,
   "id": "cda491fe-9c43-4d98-b6ef-ea6c96a9001c",
   "metadata": {
    "tags": []
   },
   "outputs": [
    {
     "name": "stdout",
     "output_type": "stream",
     "text": [
      "Successfully imported libraries and modules\n"
     ]
    }
   ],
   "source": [
    "import sys\n",
    "import array\n",
    "import time\n",
    "import os\n",
    "from dotenv import load_dotenv\n",
    "\n",
    "import oracledb\n",
    "from langchain_community.vectorstores import oraclevs\n",
    "from langchain_community.vectorstores.oraclevs import OracleVS\n",
    "\n",
    "from langchain_community.vectorstores.utils import DistanceStrategy\n",
    "from langchain_core.documents import BaseDocumentTransformer, Document\n",
    "\n",
    "from langchain_core.prompts import PromptTemplate\n",
    "from langchain.chains import LLMChain\n",
    "from langchain_core.runnables import RunnablePassthrough\n",
    "from langchain_core.output_parsers import StrOutputParser\n",
    "\n",
    "import warnings\n",
    "warnings.filterwarnings(\"ignore\")\n",
    "\n",
    "print(\"Successfully imported libraries and modules\")"
   ]
  },
  {
   "cell_type": "markdown",
   "id": "cc72ed37-28d8-4428-a32c-57f73174e4d1",
   "metadata": {
    "tags": []
   },
   "source": [
    "### 01.03 데이터베이스 연결 "
   ]
  },
  {
   "cell_type": "code",
   "execution_count": 10,
   "id": "993e8d02-7be9-4c3c-96c2-ac72b59e4f16",
   "metadata": {
    "tags": []
   },
   "outputs": [
    {
     "name": "stdout",
     "output_type": "stream",
     "text": [
      "Connection successful! 23.4.1.24.6\n"
     ]
    }
   ],
   "source": [
    "username=os.environ[\"DB_USER\"]\n",
    "password=os.environ[\"DB_PASSWORD\"]\n",
    "dsn=os.environ[\"DSN\"]\n",
    "\n",
    "con = oracledb.connect(user=username, password=password, dsn=dsn)\n",
    "\n",
    "try: \n",
    "    conn23c = oracledb.connect(user=username, password=password, dsn=dsn)\n",
    "    print(\"Connection successful!\", conn23c.version)\n",
    "except Exception as e:\n",
    "    print(\"Connection failed!\")"
   ]
  },
  {
   "cell_type": "markdown",
   "id": "2607ae59-5cbe-40d0-8e63-e9a25031f3d6",
   "metadata": {
    "tags": []
   },
   "source": [
    "## Step 02. Load the document "
   ]
  },
  {
   "cell_type": "markdown",
   "id": "01b8dfb4-4655-45fe-919f-37c7eb1fdd2b",
   "metadata": {},
   "source": [
    "### 텍스트 추출: UpstageLayoutAnalysisLoader"
   ]
  },
  {
   "cell_type": "code",
   "execution_count": 11,
   "id": "e175a61e-f6da-46ac-8439-1e0ccd3932ab",
   "metadata": {
    "tags": []
   },
   "outputs": [],
   "source": [
    "from langchain_upstage import UpstageLayoutAnalysisLoader\n",
    "\n",
    "file_path = \"./oracle-database-23ai-new-features-guide.pdf\"\n",
    "layzer = UpstageLayoutAnalysisLoader(file_path, split=\"page\")\n",
    "\n",
    "# For improved memory efficiency, consider using the lazy_load method to load documents page by page.\n",
    "docs = layzer.load()  # or layzer.lazy_load()"
   ]
  },
  {
   "cell_type": "code",
   "execution_count": 5,
   "id": "eef1b397-331d-48bf-b2aa-9b3fd321849d",
   "metadata": {
    "tags": []
   },
   "outputs": [],
   "source": [
    "from langchain_text_splitters import (\n",
    "    Language,\n",
    "    RecursiveCharacterTextSplitter,\n",
    ")\n",
    "\n",
    "text_splitter = RecursiveCharacterTextSplitter.from_language(\n",
    "    chunk_size=1500, chunk_overlap=200, language=Language.HTML\n",
    ")\n",
    "docs = text_splitter.split_documents(docs)"
   ]
  },
  {
   "cell_type": "code",
   "execution_count": 6,
   "id": "91130cfe-2ba0-4598-9885-dfdbf4dda3cc",
   "metadata": {
    "tags": []
   },
   "outputs": [
    {
     "data": {
      "text/plain": [
       "Document(metadata={'page': 3}, page_content=\"<p id='13' data-category='paragraph' style='font-size:14px'>International, Inc. AMD, Epyc, and the AMD logo are trademarks or registered trademarks of<br>Advanced Micro Devices. UNIX is a registered trademark of The Open Group.</p> <p id='14' data-category='paragraph' style='font-size:14px'>This software or hardware and documentation may provide access to or information about<br>content, products, and services from third parties. Oracle Corporation and its affiliates are not<br>responsible for and expressly disclaim all warranties of any kind with respect to third-party<br>content, products, and services unless otherwise set forth in an applicable agreement between you<br>and Oracle. Oracle Corporation and its affiliates will not be responsible for any loss, costs, or<br>damages incurred due to your access to or use of third-party content, products, or services, except<br>as set forth in an applicable agreement between you and Oracle.</p>\")"
      ]
     },
     "execution_count": 6,
     "metadata": {},
     "output_type": "execute_result"
    }
   ],
   "source": [
    "docs[4]"
   ]
  },
  {
   "cell_type": "code",
   "execution_count": 7,
   "id": "a6fcbbd5-5826-4154-977f-3d2dd50c1b5f",
   "metadata": {
    "tags": []
   },
   "outputs": [],
   "source": [
    "for doc in docs:\n",
    "    doc.metadata['title']=\"Oracle Database 23ai New Features\""
   ]
  },
  {
   "cell_type": "code",
   "execution_count": 55,
   "id": "36bd9433-9e8a-46f3-8a1a-48578af86799",
   "metadata": {
    "tags": []
   },
   "outputs": [
    {
     "data": {
      "text/plain": [
       "Document(metadata={'page': 3, 'title': 'Oracle Database 23ai New Features'}, page_content=\"<p id='13' data-category='paragraph' style='font-size:14px'>International, Inc. AMD, Epyc, and the AMD logo are trademarks or registered trademarks of<br>Advanced Micro Devices. UNIX is a registered trademark of The Open Group.</p> <p id='14' data-category='paragraph' style='font-size:14px'>This software or hardware and documentation may provide access to or information about<br>content, products, and services from third parties. Oracle Corporation and its affiliates are not<br>responsible for and expressly disclaim all warranties of any kind with respect to third-party<br>content, products, and services unless otherwise set forth in an applicable agreement between you<br>and Oracle. Oracle Corporation and its affiliates will not be responsible for any loss, costs, or<br>damages incurred due to your access to or use of third-party content, products, or services, except<br>as set forth in an applicable agreement between you and Oracle.</p>\")"
      ]
     },
     "execution_count": 55,
     "metadata": {},
     "output_type": "execute_result"
    }
   ],
   "source": [
    "docs[4]"
   ]
  },
  {
   "cell_type": "markdown",
   "id": "b5fe6506-4191-4f79-81d7-5c4e2528eaef",
   "metadata": {},
   "source": [
    "### SolarLLM 임베딩 모델 & 데이터 적재"
   ]
  },
  {
   "cell_type": "code",
   "execution_count": 56,
   "id": "eaf5be7b-4c8e-41e6-a125-10cc86058d39",
   "metadata": {
    "tags": []
   },
   "outputs": [
    {
     "name": "stdout",
     "output_type": "stream",
     "text": [
      "Vectorizing and inserting chunks duration: 59.1 sec.\n"
     ]
    }
   ],
   "source": [
    "from langchain_upstage import UpstageEmbeddings\n",
    " \n",
    "upstage_embeddings = UpstageEmbeddings(model=\"solar-embedding-1-large\")\n",
    "     \n",
    "# Configure the vector store with the model, table name, and using the indicated distance strategy for the similarity search and vectorize the chunks\n",
    "s1time = time.time()\n",
    "\n",
    "knowledge_base = OracleVS.from_documents(docs, upstage_embeddings, client=conn23c, \n",
    "                    table_name=\"text_embeddings2\", \n",
    "                    distance_strategy=DistanceStrategy.DOT_PRODUCT)    \n",
    "\n",
    "s2time =  time.time()      \n",
    "print( f\"Vectorizing and inserting chunks duration: {round(s2time - s1time, 1)} sec.\")\n"
   ]
  },
  {
   "cell_type": "markdown",
   "id": "0548a939-31d3-48fe-9227-4570fd99bfb4",
   "metadata": {},
   "source": [
    "## Step 03. Retriever 생성 및 쿼리 테스트"
   ]
  },
  {
   "cell_type": "markdown",
   "id": "200e10a3-d66b-4723-9bb5-f7c23a96b374",
   "metadata": {},
   "source": [
    "### Oracle Database를 위한 Retriever "
   ]
  },
  {
   "cell_type": "code",
   "execution_count": 11,
   "id": "03ce803b-9308-4bed-bb94-cf410f457aa6",
   "metadata": {
    "tags": []
   },
   "outputs": [],
   "source": [
    "vector_store = OracleVS(client=conn23c, \n",
    "                        embedding_function=upstage_embeddings, \n",
    "                        table_name=\"text_embeddings2\", \n",
    "                        distance_strategy=DistanceStrategy.DOT_PRODUCT)\n",
    "\n",
    "retriever = vector_store.as_retriever()"
   ]
  },
  {
   "cell_type": "code",
   "execution_count": 12,
   "id": "c19d4b4b-ef96-4d99-a627-94afa2fc0ec0",
   "metadata": {
    "tags": []
   },
   "outputs": [
    {
     "name": "stdout",
     "output_type": "stream",
     "text": [
      "The prompt to the LLM will be: Tell me more about AI Vector Search\n"
     ]
    }
   ],
   "source": [
    "user_question = (\"Tell me more about AI Vector Search\")\n",
    "print (\"The prompt to the LLM will be:\",user_question)"
   ]
  },
  {
   "cell_type": "code",
   "execution_count": 13,
   "id": "feee60f7-09e3-41c1-b07f-64847cea7c1e",
   "metadata": {
    "tags": []
   },
   "outputs": [
    {
     "name": "stdout",
     "output_type": "stream",
     "text": [
      "Search for the user question in the Oracle Database 23ai and return similar chunks duration: 1.0 sec.\n"
     ]
    }
   ],
   "source": [
    "if user_question:\n",
    "    s3time =  time.time()\n",
    "    result_chunks=knowledge_base.similarity_search(user_question)\n",
    "    s4time = time.time()\n",
    "    print(f\"Search for the user question in the Oracle Database 23ai and return similar chunks duration: {round(s4time - s3time, 1)} sec.\")\n"
   ]
  },
  {
   "cell_type": "code",
   "execution_count": 14,
   "id": "8eb7d670-015c-444d-932f-443f98029e1d",
   "metadata": {
    "tags": []
   },
   "outputs": [
    {
     "data": {
      "text/plain": [
       "[Document(metadata={'page': 9, 'title': 'Oracle Database 23ai New Features'}, page_content=\"<h1 id='82' style='font-size:20px'>2 AI Vector Search</h1> <h1 id='83' style='font-size:16px'>General</h1> <h1 id='84' style='font-size:14px'>Vector Data Type</h1> <p id='85' data-category='paragraph' style='font-size:14px'>This feature provides a built-in VECTOR data type that enables vector similarity<br>searches within the database.</p> <p id='86' data-category='paragraph' style='font-size:14px'>With a built-in VECTOR data type, you can run run AI-powered vector similarity<br>searches within the database instead of having to move business data to a separate<br>vector database. Avoiding data movement reduces complexity, improves security, and<br>enables searches on current data. You also can run far more powerful searches with<br>Oracle AI Vector Search by combining sophisticated business data searches with AI<br>vector similarity search using simple, intuitive SQL and the full power of the converged<br>database - JSON, Graph, Text, Spatial, Relational and Vector - all within a single query.</p> <h1 id='87' style='font-size:14px'>View Documentation</h1> <h1 id='88' style='font-size:14px'>Vector Indexes</h1>\"),\n",
       " Document(metadata={'page': 9, 'title': 'Oracle Database 23ai New Features'}, page_content=\"<p id='89' data-category='paragraph' style='font-size:14px'>Vector Indexes are a class of specialized indexing data structures that are used to<br>efficiently store and search high-dimensional vector data. A vector index organizes<br>vector data in a manner such that similar items (where similarity is defined by distance<br>between two vectors) are grouped together, thus, making the search process<br>extremely efficient. Unlike traditional database indexes, vector indexes are commonly<br>used on large datasets to perform approximate similarity searches that can trade-off<br>between query accuracy and query performance depending on the application's<br>requirements.</p> <p id='90' data-category='paragraph' style='font-size:14px'>This functionality enables efficient similarity searches and faster query performance<br>for AI-driven applications. In addition, vector indexes scalability and support for high-<br>dimensional data improve analytical insights and can lead to informed decision-<br>making and a competitive business advantage.</p> <h1 id='91' style='font-size:14px'>View Documentation</h1> <h1 id='92' style='font-size:14px'>AI Vector Search: SQL Execution</h1> <p id='93' data-category='paragraph' style='font-size:14px'>AI Vector Search SQL Execution adds SQL execution support for vector indexes built<br>on vector columns inside the database. In addition, it provides support for SQL</p>\"),\n",
       " Document(metadata={'page': 11, 'title': 'Oracle Database 23ai New Features'}, page_content=\"<p id='0' data-category='paragraph' style='font-size:14px'>You can import ONNX-format models to Oracle Database for the machine learning<br>techniques classification, regression, clustering, and embeddings.</p> <p id='1' data-category='paragraph' style='font-size:14px'>The models will be imported as first-class MINING MODEL objects in your schema.<br>Inference can be done using the family of OML scoring operators, including<br>PREDICTION, CLUSTER, and VECTOR_EMBEDDING.</p> <p id='2' data-category='paragraph' style='font-size:14px'>You can import and use third-party ML models, possibly built in other environments<br>or from other sources, to leverage the database as an ML scoring platform.</p> <p id='3' data-category='paragraph' style='font-size:14px'>Users can invoke these models from SQL queries using the same scoring operators as<br>native in-database models.</p> <p id='4' data-category='paragraph' style='font-size:14px'>While ONNX format models can already be imported to OML Services on Autonomous<br>Database Serverless, you can now use ONNX-format models from Oracle Database.</p> <h1 id='5' style='font-size:14px'>View Documentation</h1> <h1 id='6' style='font-size:14px'>AI Vector Search: Optimizer</h1> <p id='7' data-category='paragraph' style='font-size:14px'>This functionality adds support to the Optimizer to use indexes built on the new<br>Vector data type rather than doing full table scans.</p>\"),\n",
       " Document(metadata={'page': 11, 'title': 'Oracle Database 23ai New Features'}, page_content=\"<p id='7' data-category='paragraph' style='font-size:14px'>This functionality adds support to the Optimizer to use indexes built on the new<br>Vector data type rather than doing full table scans.</p> <p id='8' data-category='paragraph' style='font-size:14px'>The support for vector indexes being used by the Optimizer allows for efficient<br>computation of vector queries enabling developers to build the next generation of AI-<br>powered solutions.</p> <h1 id='9' style='font-size:14px'>View Documentation</h1> <h1 id='10' style='font-size:14px'>AI Vector Search: PL/SQL</h1> <p id='11' data-category='paragraph' style='font-size:14px'>This functionality adds a new vector type to the PL/SQL type system, along with a set<br>of vector operations useful for performing similarity searches on sets of vectors.</p> <p id='12' data-category='paragraph' style='font-size:14px'>Support for the new vector data type in PL/SQL opens up new possibilities<br>for developers to build robust and efficient AI-driven applications.</p> <h1 id='13' style='font-size:14px'>View Documentation</h1>\")]"
      ]
     },
     "execution_count": 14,
     "metadata": {},
     "output_type": "execute_result"
    }
   ],
   "source": [
    "result_chunks"
   ]
  },
  {
   "cell_type": "markdown",
   "id": "3e5b3334-3031-4516-a64b-6353587bbb17",
   "metadata": {},
   "source": [
    "## Step 04. LangChain 애플리케이션 준비"
   ]
  },
  {
   "cell_type": "code",
   "execution_count": 15,
   "id": "e9d469bb-dc16-4914-bb73-6941b61d7992",
   "metadata": {
    "tags": []
   },
   "outputs": [],
   "source": [
    "from langchain_upstage import ChatUpstage\n",
    "from langchain_core.messages import HumanMessage, SystemMessage\n",
    " \n",
    "llm = ChatUpstage()"
   ]
  },
  {
   "cell_type": "code",
   "execution_count": 16,
   "id": "60e9182a-25f5-4a61-9dbc-9e9cce04e54f",
   "metadata": {
    "tags": []
   },
   "outputs": [],
   "source": [
    "template = \"\"\"Answer the question based only on the following context:\n",
    "              {context} \n",
    "              Question: {question} \n",
    "              \"\"\"\n",
    "prompt = PromptTemplate.from_template(template)"
   ]
  },
  {
   "cell_type": "code",
   "execution_count": 17,
   "id": "04f843d8-01c8-4b53-a94e-fff7075a3cf6",
   "metadata": {
    "tags": []
   },
   "outputs": [],
   "source": [
    "retriever = vector_store.as_retriever()"
   ]
  },
  {
   "cell_type": "markdown",
   "id": "77485e61-c456-40a4-b759-b936b5c36615",
   "metadata": {
    "tags": []
   },
   "source": [
    "## Step 05. LangChain"
   ]
  },
  {
   "cell_type": "code",
   "execution_count": 18,
   "id": "6b97839a-273c-4b64-8262-efcbcd4c2dbc",
   "metadata": {
    "tags": []
   },
   "outputs": [
    {
     "name": "stdout",
     "output_type": "stream",
     "text": [
      "We are sending the prompt and RAG context to the LLM, wait a few seconds for the response...\n",
      "Question:  Tell me more about AI Vector Search\n",
      "----------------------------------------------------------------------------------------------------\n",
      "AI Vector Search is a feature that provides a built-in VECTOR data type that enables vector similarity searches within the database. With this feature, you can run AI-powered vector similarity searches within the database instead of having to move business data to a separate vector database. This reduces complexity, improves security, and enables searches on current data. You can also run more powerful searches with Oracle AI Vector Search by combining sophisticated business data searches with AI vector similarity search using simple, intuitive SQL and the full power of the converged database - JSON, Graph, Text, Spatial, Relational and Vector - all within a single query.\n",
      "\n",
      "Send user question and ranked chunks to LLM and get answer duration: 4.4 sec.\n"
     ]
    }
   ],
   "source": [
    "user_question = (\"Tell me more about AI Vector Search\")\n",
    "\n",
    "s5time = time.time()\n",
    "print(\"We are sending the prompt and RAG context to the LLM, wait a few seconds for the response...\")\n",
    "chain = (\n",
    "  {\"context\": retriever, \"question\": RunnablePassthrough()}\n",
    "    | prompt\n",
    "    | llm\n",
    "    | StrOutputParser()\n",
    "    )\n",
    "response = chain.invoke(user_question)\n",
    "print(\"Question: \", user_question)\n",
    "print(\"-\"*100)\n",
    "print(response)\n",
    "\n",
    "s6time = time.time()\n",
    "print(\"\")\n",
    "print( f\"Send user question and ranked chunks to LLM and get answer duration: {round(s6time - s5time, 1)} sec.\")\n"
   ]
  },
  {
   "cell_type": "markdown",
   "id": "c72a4f33-4d54-4407-a73e-c897377ca174",
   "metadata": {},
   "source": [
    "### 모듈화"
   ]
  },
  {
   "cell_type": "code",
   "execution_count": 19,
   "id": "10335c6a-cb9e-4124-93dd-0471b4ff1c11",
   "metadata": {
    "tags": []
   },
   "outputs": [],
   "source": [
    "def invokellm(question, template, vector_store):\n",
    "    prompt = PromptTemplate.from_template(template)\n",
    "    vector_store.as_retriever()\n",
    "\n",
    "    s5time = time.time()\n",
    "    print(\"We are sending the prompt and RAG context to the LLM, wait a few seconds for the response...\")\n",
    "    print()\n",
    "    chain = (\n",
    "      {\"context\": retriever, \"question\": RunnablePassthrough()}\n",
    "        | prompt\n",
    "        | llm\n",
    "        | StrOutputParser()\n",
    "    )\n",
    "    response = chain.invoke(user_question)\n",
    "\n",
    "    s6time = time.time()\n",
    "    print( f\"Send user question and ranked chunks to LLM and get answer duration: {round(s6time - s5time, 1)} sec.\")\n",
    "    print(\"\")\n",
    "    return response"
   ]
  },
  {
   "cell_type": "code",
   "execution_count": 20,
   "id": "98597e08-4ed5-4b77-8e1c-a5ea354afe78",
   "metadata": {
    "tags": []
   },
   "outputs": [],
   "source": [
    "template = \"\"\"Answer the question based only on the following context:\n",
    "          {context} \n",
    "          Question: {question} \n",
    "          \"\"\""
   ]
  },
  {
   "cell_type": "code",
   "execution_count": 21,
   "id": "b34f0093-0372-4843-b340-665b78df078e",
   "metadata": {
    "tags": []
   },
   "outputs": [
    {
     "name": "stdout",
     "output_type": "stream",
     "text": [
      "We are sending the prompt and RAG context to the LLM, wait a few seconds for the response...\n",
      "\n",
      "Send user question and ranked chunks to LLM and get answer duration: 2.9 sec.\n",
      "\n"
     ]
    },
    {
     "data": {
      "text/plain": [
       "'AI Vector Search is a feature that provides a built-in VECTOR data type that enables vector similarity searches within the database. It allows for efficient similarity searches and faster query performance for AI-driven applications. Vector Indexes are a class of specialized indexing data structures that are used to efficiently store and search high-dimensional vector data. The functionality adds support to the Optimizer to use indexes built on the new Vector data type rather than doing full table scans, and it also adds a new vector type to the PL/SQL type system with a set of vector operations useful for performing similarity searches on sets of vectors.'"
      ]
     },
     "execution_count": 21,
     "metadata": {},
     "output_type": "execute_result"
    }
   ],
   "source": [
    "question = \"Tell me more about AI Vector Search\"\n",
    "response = invokellm(question,template, vector_store)\n",
    "response"
   ]
  },
  {
   "cell_type": "markdown",
   "id": "e2c295c5-1267-44cb-8889-285f3d6067d4",
   "metadata": {},
   "source": [
    "## Step 06. Prompt 수정"
   ]
  },
  {
   "cell_type": "code",
   "execution_count": 22,
   "id": "4993f48a-37a8-436c-8559-dcbfacca381b",
   "metadata": {
    "tags": []
   },
   "outputs": [],
   "source": [
    "template = \"\"\"Answer the question based only on the following context:\n",
    "          {context} \n",
    "          Question: {question} \n",
    "          Output: please, response in Korean\n",
    "          \"\"\""
   ]
  },
  {
   "cell_type": "code",
   "execution_count": 24,
   "id": "540bd315-c42f-4f16-81b6-e59c22c85746",
   "metadata": {
    "tags": []
   },
   "outputs": [
    {
     "name": "stdout",
     "output_type": "stream",
     "text": [
      "We are sending the prompt and RAG context to the LLM, wait a few seconds for the response...\n",
      "\n",
      "Send user question and ranked chunks to LLM and get answer duration: 4.3 sec.\n",
      "\n"
     ]
    }
   ],
   "source": [
    "user_question = (\"Oracle Database 23ai의 주요 신기능에는 어떤 것이 있나요?\")\n",
    "response = invokellm(question, template, vector_store)"
   ]
  },
  {
   "cell_type": "markdown",
   "id": "761fdddf-e09c-4862-9465-85bea15c6c78",
   "metadata": {},
   "source": [
    "## Step 07. Index 추가"
   ]
  },
  {
   "cell_type": "code",
   "execution_count": 67,
   "id": "54459957-1d2f-43de-8d66-32d7fdecf094",
   "metadata": {
    "tags": []
   },
   "outputs": [],
   "source": [
    "oraclevs.create_index(\n",
    "    client=conn23c,\n",
    "    vector_store=vector_store,\n",
    "    params={\n",
    "        \"idx_name\": \"ivf_idx1\",\n",
    "        \"idx_type\": \"IVF\",\n",
    "    },\n",
    ")"
   ]
  },
  {
   "cell_type": "code",
   "execution_count": null,
   "id": "849669b6-57f2-4ddb-b9b9-1ee53b1d0ab1",
   "metadata": {},
   "outputs": [],
   "source": []
  }
 ],
 "metadata": {
  "kernelspec": {
   "display_name": "Python 3 (ipykernel)",
   "language": "python",
   "name": "python3"
  },
  "language_info": {
   "codemirror_mode": {
    "name": "ipython",
    "version": 3
   },
   "file_extension": ".py",
   "mimetype": "text/x-python",
   "name": "python",
   "nbconvert_exporter": "python",
   "pygments_lexer": "ipython3",
   "version": "3.8.19"
  }
 },
 "nbformat": 4,
 "nbformat_minor": 5
}
